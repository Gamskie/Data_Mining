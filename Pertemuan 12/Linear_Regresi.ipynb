{
  "nbformat": 4,
  "nbformat_minor": 0,
  "metadata": {
    "colab": {
      "provenance": []
    },
    "kernelspec": {
      "name": "python3",
      "display_name": "Python 3"
    },
    "language_info": {
      "name": "python"
    }
  },
  "cells": [
    {
      "cell_type": "code",
      "execution_count": 3,
      "metadata": {
        "id": "aDCYQVG0Y6H6"
      },
      "outputs": [],
      "source": [
        "from scipy import stats"
      ]
    },
    {
      "cell_type": "code",
      "source": [
        "# x = data tinggi badan (cm)\n",
        "x = [151,174,138,186,128,136,179,163,152,131]"
      ],
      "metadata": {
        "id": "YKIXa2n6Ztlv"
      },
      "execution_count": 4,
      "outputs": []
    },
    {
      "cell_type": "code",
      "source": [
        "# y = data berat badan (kg)\n",
        "y =[63,81,56,91,47,57,76,72,62,48]"
      ],
      "metadata": {
        "id": "MuTW0brMZ7wO"
      },
      "execution_count": 5,
      "outputs": []
    },
    {
      "cell_type": "code",
      "source": [
        "slope, intercept, r, p, std_err = stats.linregress(x,y)"
      ],
      "metadata": {
        "id": "HMiVQWwkZ-Tk"
      },
      "execution_count": 6,
      "outputs": []
    },
    {
      "cell_type": "code",
      "source": [
        "# Buat Fungsi Linear Regresi => y = 0.67461045 x - 38.45508707607701\n",
        "def myfunc(x):\n",
        "  return slope * x + intercept"
      ],
      "metadata": {
        "id": "PSyZDvPiaAtE"
      },
      "execution_count": 7,
      "outputs": []
    },
    {
      "cell_type": "code",
      "source": [
        "berat_badan = myfunc(151)"
      ],
      "metadata": {
        "id": "y-noYEjQaC6D"
      },
      "execution_count": 8,
      "outputs": []
    },
    {
      "cell_type": "code",
      "source": [
        "print(berat_badan)"
      ],
      "metadata": {
        "colab": {
          "base_uri": "https://localhost:8080/"
        },
        "id": "2-OwMcLdaFUJ",
        "outputId": "1be8dc58-be47-46ba-9dc9-718775050b69"
      },
      "execution_count": 9,
      "outputs": [
        {
          "output_type": "stream",
          "name": "stdout",
          "text": [
            "63.41109074243812\n"
          ]
        }
      ]
    }
  ]
}